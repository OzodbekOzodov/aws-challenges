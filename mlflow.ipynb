{
 "cells": [
  {
   "cell_type": "code",
   "execution_count": 3,
   "metadata": {},
   "outputs": [],
   "source": [
    "import mlflow"
   ]
  },
  {
   "cell_type": "code",
   "execution_count": 2,
   "metadata": {},
   "outputs": [
    {
     "name": "stderr",
     "output_type": "stream",
     "text": [
      "2023/07/15 23:45:50 INFO mlflow.tracking.fluent: Experiment with name 'first experiment' does not exist. Creating a new experiment.\n"
     ]
    }
   ],
   "source": [
    "# set new mlflow experiment\n",
    "mlflow.set_experiment(\"first experiment\")\n",
    "\n",
    "# start run\n",
    "with mlflow.start_run():\n",
    "    # log parameters\n",
    "    mlflow.log_param(\"param1\", 5)\n",
    "    mlflow.log_param(\"param2\", 7)\n",
    "\n",
    "    # log a metric\n",
    "    mlflow.log_metric(\"foo\", 1)\n",
    "\n",
    "    # log an artifact (output file)\n",
    "    with open(\"output.txt\", \"w\") as f:\n",
    "        f.write(\"Hello world!\")\n",
    "    mlflow.log_artifact(\"output.txt\")\n"
   ]
  },
  {
   "cell_type": "code",
   "execution_count": null,
   "metadata": {},
   "outputs": [],
   "source": []
  }
 ],
 "metadata": {
  "kernelspec": {
   "display_name": "base",
   "language": "python",
   "name": "python3"
  },
  "language_info": {
   "codemirror_mode": {
    "name": "ipython",
    "version": 3
   },
   "file_extension": ".py",
   "mimetype": "text/x-python",
   "name": "python",
   "nbconvert_exporter": "python",
   "pygments_lexer": "ipython3",
   "version": "3.10.9"
  },
  "orig_nbformat": 4
 },
 "nbformat": 4,
 "nbformat_minor": 2
}
