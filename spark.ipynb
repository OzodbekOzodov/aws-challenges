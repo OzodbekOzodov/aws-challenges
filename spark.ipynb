{
 "cells": [
  {
   "cell_type": "code",
   "execution_count": 10,
   "metadata": {},
   "outputs": [],
   "source": [
    "import pyspark as spark"
   ]
  },
  {
   "cell_type": "code",
   "execution_count": 13,
   "metadata": {},
   "outputs": [
    {
     "name": "stdout",
     "output_type": "stream",
     "text": [
      "<pyspark.sql.session.SparkSession object at 0x7f24c618f880>\n"
     ]
    }
   ],
   "source": [
    "# Import SparkSession from pyspark.sql\n",
    "from pyspark.sql import SparkSession\n",
    "\n",
    "# Create my_spark\n",
    "spark = SparkSession.builder.getOrCreate()\n",
    "\n",
    "# Print my_spark\n",
    "print(spark)"
   ]
  },
  {
   "cell_type": "code",
   "execution_count": 14,
   "metadata": {},
   "outputs": [
    {
     "name": "stdout",
     "output_type": "stream",
     "text": [
      "[]\n"
     ]
    }
   ],
   "source": [
    "# Print the tables in the catalog\n",
    "\n",
    "# List the tables in the catalog\n",
    "tables = spark.catalog.listTables()\n",
    "\n",
    "print(spark.catalog.listTables())"
   ]
  },
  {
   "cell_type": "code",
   "execution_count": 15,
   "metadata": {},
   "outputs": [],
   "source": [
    "# Print the tables\n",
    "for table in tables:\n",
    "    print(table)"
   ]
  },
  {
   "cell_type": "code",
   "execution_count": 16,
   "metadata": {},
   "outputs": [
    {
     "name": "stderr",
     "output_type": "stream",
     "text": [
      "23/07/02 19:21:54 WARN SparkSession: Using an existing Spark session; only runtime SQL configurations will take effect.\n",
      "23/07/02 19:21:56 WARN package: Truncated the string representation of a plan since it was too large. This behavior can be adjusted by setting 'spark.sql.debug.maxToStringFields'.\n"
     ]
    },
    {
     "name": "stdout",
     "output_type": "stream",
     "text": [
      "+-----+---------+-------------------+-------------+------------+-------+-------+-----+----------+--------------------+--------------------+--------------+--------------+-----------------+---------------+----------------+--------------+---------------+---------------+---------------------+--------------------+---------------------+--------------------+--------+--------+----------------+----------------+----------+----------+----------+----------+------------+------------+------------+------------+------------+------------+------------+------------+------------------+------------------+----------------+----------------+---------------+---------------+-------------+-------------+--------+--------+--------------+--------------+---------------+---------------+\n",
      "|match|dayofweek|         match_time|    home_team|   away_team|home_xg|away_xg|score|attendance|               venue|             referee|home_formation|away_formation|     home_captain|   away_captain|    home_manager|  away_manager|home_possession|away_possession|home_completed_passes|home_attempted_pases|away_completed_passes|away_attempted_pases|home_sot|away_sot|home_total_shots|away_total_shots|home_saves|away_saves|home_fouls|away_fouls|home_corners|away_corners|home_crosses|away_crosses|home_touches|away_touches|home_tackles|away_tackles|home_interceptions|away_interceptions|home_aerials_won|away_aerials_won|home_clearances|away_clearances|home_offsides|away_offsides|home_gks|away_gks|home_throw_ins|away_throw_ins|home_long_balls|away_long_balls|\n",
      "+-----+---------+-------------------+-------------+------------+-------+-------+-----+----------+--------------------+--------------------+--------------+--------------+-----------------+---------------+----------------+--------------+---------------+---------------+---------------------+--------------------+---------------------+--------------------+--------+--------+----------------+----------------+----------+----------+----------+----------+------------+------------+------------+------------+------------+------------+------------+------------+------------------+------------------+----------------+----------------+---------------+---------------+-------------+-------------+--------+--------+--------------+--------------+---------------+---------------+\n",
      "|    1|      Sun|2022-11-20 19:00:00|        Qatar|     Ecuador|    0.3|    1.2|  0–2|     67372|     Al Bayt Stadium|      Daniele Orsato|         5-3-2|         4-4-2| Hassan Al-Haydos| Enner Valencia|   Félix Sánchez|Gustavo Alfaro|             47|             53|                  377|                 469|                  430|                 522|       0|       2|               5|               5|         1|         0|        15|        15|           1|           3|           8|          14|         549|         601|          10|          14|                 2|                12|              14|              13|             18|              7|            3|            4|       4|       7|            20|            17|             51|             70|\n",
      "|    2|      Mon|2022-11-21 16:00:00|      England|     IR Iran|    2.1|    1.4|  6–2|     45334|Khalifa Internati...|       Raphael Claus|       4-2-3-1|         5-4-1|       Harry Kane|  Ehsan Hajsafi|Gareth Southgate|Carlos Queiroz|             77|             23|                  740|                 838|                  162|                 248|       7|       2|              13|               7|         1|         1|         9|        14|           8|           0|          21|           8|         922|         341|          13|          12|                 7|                16|              10|              10|              4|             23|            2|            2|       5|       5|            18|            17|             87|             50|\n",
      "|    3|      Mon|2022-11-21 19:00:00|      Senegal| Netherlands|    0.9|    0.7|  0–2|     41721|  Al Thumama Stadium|      Wilton Sampaio|       4-2-3-1|       3-4-1-2|Kalidou Koulibaly|Virgil van Dijk|     Aliou Cissé|Louis van Gaal|             46|             54|                  333|                 427|                  387|                 494|       4|       3|              15|              10|         1|         4|        13|        13|           6|           7|          19|          25|         531|         573|          14|          10|                10|                 6|              22|              20|             32|             16|            2|            1|       6|      10|            17|            28|             64|             66|\n",
      "|    4|      Mon|2022-11-21 22:00:00|United States|       Wales|    0.8|    1.5|  1–1|     43418|Ahmed bin Ali Sta...|Abdulrahman Ibrah...|         4-3-3|         3-5-2|      Tyler Adams|    Gareth Bale| Gregg Berhalter|      Rob Page|             58|             42|                  524|                 624|                  335|                 446|       1|       2|               6|               6|         2|         0|        15|        10|           5|           3|          30|          14|         724|         568|          14|          18|                 6|                 8|              14|              12|             18|             31|            1|            1|       5|      10|            22|            25|             56|             90|\n",
      "|    5|      Tue|2022-11-22 13:00:00|    Argentina|Saudi Arabia|    2.2|    0.1|  1–2|     88012|Lusail Iconic Sta...|       Slavko Vinčič|         4-4-2|       4-1-4-1|     Lionel Messi|Salman Al-Faraj|  Lionel Scaloni|  Hervé Renard|             69|             31|                  546|                 659|                  195|                 294|       5|       2|              14|               3|         0|         5|         7|        21|           9|           2|          23|          10|         753|         411|          17|          18|                 9|                14|              16|               7|             11|             26|           10|            1|       3|       9|            24|            13|             55|             59|\n",
      "+-----+---------+-------------------+-------------+------------+-------+-------+-----+----------+--------------------+--------------------+--------------+--------------+-----------------+---------------+----------------+--------------+---------------+---------------+---------------------+--------------------+---------------------+--------------------+--------+--------+----------------+----------------+----------+----------+----------+----------+------------+------------+------------+------------+------------+------------+------------+------------+------------------+------------------+----------------+----------------+---------------+---------------+-------------+-------------+--------+--------+--------------+--------------+---------------+---------------+\n",
      "only showing top 5 rows\n",
      "\n"
     ]
    }
   ],
   "source": [
    "from pyspark.sql import SparkSession\n",
    "\n",
    "spark = SparkSession.builder.appName(\"CSV Data\").getOrCreate()\n",
    "\n",
    "# load the csv file Data/Kaggle world cup 2022/match_data.csv\n",
    "df = spark.read.csv(\"Data/Kaggle world cup 2022/match_data.csv\", header=True, inferSchema=True)\n",
    "\n",
    "# show the first 5 rows\n",
    "df.show(5)\n",
    "\n"
   ]
  },
  {
   "cell_type": "code",
   "execution_count": 17,
   "metadata": {},
   "outputs": [],
   "source": [
    "spark.stop()"
   ]
  },
  {
   "cell_type": "code",
   "execution_count": null,
   "metadata": {},
   "outputs": [],
   "source": []
  }
 ],
 "metadata": {
  "kernelspec": {
   "display_name": "Python 3",
   "language": "python",
   "name": "python3"
  },
  "language_info": {
   "codemirror_mode": {
    "name": "ipython",
    "version": 3
   },
   "file_extension": ".py",
   "mimetype": "text/x-python",
   "name": "python",
   "nbconvert_exporter": "python",
   "pygments_lexer": "ipython3",
   "version": "3.10.9"
  },
  "orig_nbformat": 4
 },
 "nbformat": 4,
 "nbformat_minor": 2
}
